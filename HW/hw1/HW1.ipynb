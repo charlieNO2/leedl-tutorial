{
  "cells": [
    {
      "cell_type": "code",
      "execution_count": 1,
      "metadata": {
        "id": "h90HxprXfO0M"
      },
      "outputs": [
        {
          "name": "stderr",
          "output_type": "stream",
          "text": [
            "c:\\Users\\123ch\\miniconda3\\envs\\NCKU\\lib\\site-packages\\tqdm\\auto.py:21: TqdmWarning: IProgress not found. Please update jupyter and ipywidgets. See https://ipywidgets.readthedocs.io/en/stable/user_install.html\n",
            "  from .autonotebook import tqdm as notebook_tqdm\n"
          ]
        }
      ],
      "source": [
        "# PyTorch\n",
        "import torch\n",
        "import torch.nn as nn\n",
        "from torch.utils.data import Dataset, DataLoader\n",
        "\n",
        "# For data preprocess\n",
        "import numpy as np\n",
        "import csv\n",
        "import os\n",
        "import pandas as pd\n",
        "\n",
        "# For plotting\n",
        "import matplotlib.pyplot as plt\n",
        "from matplotlib.pyplot import figure\n",
        "\n",
        "myseed = 42069  # set a random seed for reproducibility\n",
        "torch.backends.cudnn.deterministic = True\n",
        "torch.backends.cudnn.benchmark = False\n",
        "np.random.seed(myseed)\n",
        "torch.manual_seed(myseed)\n",
        "if torch.cuda.is_available():\n",
        "    torch.cuda.manual_seed_all(myseed)"
      ]
    },
    {
      "cell_type": "code",
      "execution_count": 3,
      "metadata": {
        "colab": {
          "base_uri": "https://localhost:8080/"
        },
        "id": "9iobirXEf3WT",
        "outputId": "09a3c62c-4f4a-4dcf-f4e4-8b56c5ff1892"
      },
      "outputs": [
        {
          "name": "stdout",
          "output_type": "stream",
          "text": [
            "Mounted at /content/drive\n"
          ]
        }
      ],
      "source": [
        "from google.colab import drive\n",
        "drive.mount('/content/drive')"
      ]
    },
    {
      "cell_type": "markdown",
      "metadata": {
        "id": "xrBog3u7fPxV"
      },
      "source": [
        "# 下載檔案"
      ]
    },
    {
      "cell_type": "code",
      "execution_count": 2,
      "metadata": {
        "id": "MQT2ywCAfR1_"
      },
      "outputs": [],
      "source": [
        "# train_df = pd.read_csv('/content/drive/MyDrive/Colab Notebooks/ML_2021/hw1/covid.train.csv', index_col='id')\n",
        "# test_df = pd.read_csv('/content/drive/MyDrive/Colab Notebooks/ML_2021/hw1/covid.test.csv', index_col='id')\n",
        "# sample_df = pd.read_csv('/content/drive/MyDrive/Colab Notebooks/ML_2021/hw1/sampleSubmission.csv', index_col='id')\n",
        "\n",
        "train_df = pd.read_csv('./covid.train.csv', index_col='id')\n",
        "test_df = pd.read_csv('./covid.test.csv', index_col='id')"
      ]
    },
    {
      "cell_type": "code",
      "execution_count": 3,
      "metadata": {
        "colab": {
          "base_uri": "https://localhost:8080/",
          "height": 311
        },
        "id": "d-6UW8e5fW7t",
        "outputId": "22902d38-2f75-474a-f35c-2eb92c002ffa"
      },
      "outputs": [
        {
          "data": {
            "text/html": [
              "<div>\n",
              "<style scoped>\n",
              "    .dataframe tbody tr th:only-of-type {\n",
              "        vertical-align: middle;\n",
              "    }\n",
              "\n",
              "    .dataframe tbody tr th {\n",
              "        vertical-align: top;\n",
              "    }\n",
              "\n",
              "    .dataframe thead th {\n",
              "        text-align: right;\n",
              "    }\n",
              "</style>\n",
              "<table border=\"1\" class=\"dataframe\">\n",
              "  <thead>\n",
              "    <tr style=\"text-align: right;\">\n",
              "      <th></th>\n",
              "      <th>AL</th>\n",
              "      <th>AK</th>\n",
              "      <th>AZ</th>\n",
              "      <th>AR</th>\n",
              "      <th>CA</th>\n",
              "      <th>CO</th>\n",
              "      <th>CT</th>\n",
              "      <th>FL</th>\n",
              "      <th>GA</th>\n",
              "      <th>ID</th>\n",
              "      <th>...</th>\n",
              "      <th>restaurant.2</th>\n",
              "      <th>spent_time.2</th>\n",
              "      <th>large_event.2</th>\n",
              "      <th>public_transit.2</th>\n",
              "      <th>anxious.2</th>\n",
              "      <th>depressed.2</th>\n",
              "      <th>felt_isolated.2</th>\n",
              "      <th>worried_become_ill.2</th>\n",
              "      <th>worried_finances.2</th>\n",
              "      <th>tested_positive.2</th>\n",
              "    </tr>\n",
              "    <tr>\n",
              "      <th>id</th>\n",
              "      <th></th>\n",
              "      <th></th>\n",
              "      <th></th>\n",
              "      <th></th>\n",
              "      <th></th>\n",
              "      <th></th>\n",
              "      <th></th>\n",
              "      <th></th>\n",
              "      <th></th>\n",
              "      <th></th>\n",
              "      <th></th>\n",
              "      <th></th>\n",
              "      <th></th>\n",
              "      <th></th>\n",
              "      <th></th>\n",
              "      <th></th>\n",
              "      <th></th>\n",
              "      <th></th>\n",
              "      <th></th>\n",
              "      <th></th>\n",
              "      <th></th>\n",
              "    </tr>\n",
              "  </thead>\n",
              "  <tbody>\n",
              "    <tr>\n",
              "      <th>0</th>\n",
              "      <td>1.0</td>\n",
              "      <td>0.0</td>\n",
              "      <td>0.0</td>\n",
              "      <td>0.0</td>\n",
              "      <td>0.0</td>\n",
              "      <td>0.0</td>\n",
              "      <td>0.0</td>\n",
              "      <td>0.0</td>\n",
              "      <td>0.0</td>\n",
              "      <td>0.0</td>\n",
              "      <td>...</td>\n",
              "      <td>23.812411</td>\n",
              "      <td>43.430423</td>\n",
              "      <td>16.151527</td>\n",
              "      <td>1.602635</td>\n",
              "      <td>15.409449</td>\n",
              "      <td>12.088688</td>\n",
              "      <td>16.702086</td>\n",
              "      <td>53.991549</td>\n",
              "      <td>43.604229</td>\n",
              "      <td>20.704935</td>\n",
              "    </tr>\n",
              "    <tr>\n",
              "      <th>1</th>\n",
              "      <td>1.0</td>\n",
              "      <td>0.0</td>\n",
              "      <td>0.0</td>\n",
              "      <td>0.0</td>\n",
              "      <td>0.0</td>\n",
              "      <td>0.0</td>\n",
              "      <td>0.0</td>\n",
              "      <td>0.0</td>\n",
              "      <td>0.0</td>\n",
              "      <td>0.0</td>\n",
              "      <td>...</td>\n",
              "      <td>23.682974</td>\n",
              "      <td>43.196313</td>\n",
              "      <td>16.123386</td>\n",
              "      <td>1.641863</td>\n",
              "      <td>15.230063</td>\n",
              "      <td>11.809047</td>\n",
              "      <td>16.506973</td>\n",
              "      <td>54.185521</td>\n",
              "      <td>42.665766</td>\n",
              "      <td>21.292911</td>\n",
              "    </tr>\n",
              "    <tr>\n",
              "      <th>2</th>\n",
              "      <td>1.0</td>\n",
              "      <td>0.0</td>\n",
              "      <td>0.0</td>\n",
              "      <td>0.0</td>\n",
              "      <td>0.0</td>\n",
              "      <td>0.0</td>\n",
              "      <td>0.0</td>\n",
              "      <td>0.0</td>\n",
              "      <td>0.0</td>\n",
              "      <td>0.0</td>\n",
              "      <td>...</td>\n",
              "      <td>23.593983</td>\n",
              "      <td>43.362200</td>\n",
              "      <td>16.159971</td>\n",
              "      <td>1.677523</td>\n",
              "      <td>15.717207</td>\n",
              "      <td>12.355918</td>\n",
              "      <td>16.273294</td>\n",
              "      <td>53.637069</td>\n",
              "      <td>42.972417</td>\n",
              "      <td>21.166656</td>\n",
              "    </tr>\n",
              "    <tr>\n",
              "      <th>3</th>\n",
              "      <td>1.0</td>\n",
              "      <td>0.0</td>\n",
              "      <td>0.0</td>\n",
              "      <td>0.0</td>\n",
              "      <td>0.0</td>\n",
              "      <td>0.0</td>\n",
              "      <td>0.0</td>\n",
              "      <td>0.0</td>\n",
              "      <td>0.0</td>\n",
              "      <td>0.0</td>\n",
              "      <td>...</td>\n",
              "      <td>22.576992</td>\n",
              "      <td>42.954574</td>\n",
              "      <td>15.544373</td>\n",
              "      <td>1.578030</td>\n",
              "      <td>15.295650</td>\n",
              "      <td>12.218123</td>\n",
              "      <td>16.045504</td>\n",
              "      <td>52.446223</td>\n",
              "      <td>42.907472</td>\n",
              "      <td>19.896607</td>\n",
              "    </tr>\n",
              "    <tr>\n",
              "      <th>4</th>\n",
              "      <td>1.0</td>\n",
              "      <td>0.0</td>\n",
              "      <td>0.0</td>\n",
              "      <td>0.0</td>\n",
              "      <td>0.0</td>\n",
              "      <td>0.0</td>\n",
              "      <td>0.0</td>\n",
              "      <td>0.0</td>\n",
              "      <td>0.0</td>\n",
              "      <td>0.0</td>\n",
              "      <td>...</td>\n",
              "      <td>22.091433</td>\n",
              "      <td>43.290957</td>\n",
              "      <td>15.214655</td>\n",
              "      <td>1.641667</td>\n",
              "      <td>14.778802</td>\n",
              "      <td>12.417256</td>\n",
              "      <td>16.134238</td>\n",
              "      <td>52.560315</td>\n",
              "      <td>43.321985</td>\n",
              "      <td>20.178428</td>\n",
              "    </tr>\n",
              "  </tbody>\n",
              "</table>\n",
              "<p>5 rows × 94 columns</p>\n",
              "</div>"
            ],
            "text/plain": [
              "     AL   AK   AZ   AR   CA   CO   CT   FL   GA   ID  ...  restaurant.2  \\\n",
              "id                                                    ...                 \n",
              "0   1.0  0.0  0.0  0.0  0.0  0.0  0.0  0.0  0.0  0.0  ...     23.812411   \n",
              "1   1.0  0.0  0.0  0.0  0.0  0.0  0.0  0.0  0.0  0.0  ...     23.682974   \n",
              "2   1.0  0.0  0.0  0.0  0.0  0.0  0.0  0.0  0.0  0.0  ...     23.593983   \n",
              "3   1.0  0.0  0.0  0.0  0.0  0.0  0.0  0.0  0.0  0.0  ...     22.576992   \n",
              "4   1.0  0.0  0.0  0.0  0.0  0.0  0.0  0.0  0.0  0.0  ...     22.091433   \n",
              "\n",
              "    spent_time.2  large_event.2  public_transit.2  anxious.2  depressed.2  \\\n",
              "id                                                                          \n",
              "0      43.430423      16.151527          1.602635  15.409449    12.088688   \n",
              "1      43.196313      16.123386          1.641863  15.230063    11.809047   \n",
              "2      43.362200      16.159971          1.677523  15.717207    12.355918   \n",
              "3      42.954574      15.544373          1.578030  15.295650    12.218123   \n",
              "4      43.290957      15.214655          1.641667  14.778802    12.417256   \n",
              "\n",
              "    felt_isolated.2  worried_become_ill.2  worried_finances.2  \\\n",
              "id                                                              \n",
              "0         16.702086             53.991549           43.604229   \n",
              "1         16.506973             54.185521           42.665766   \n",
              "2         16.273294             53.637069           42.972417   \n",
              "3         16.045504             52.446223           42.907472   \n",
              "4         16.134238             52.560315           43.321985   \n",
              "\n",
              "    tested_positive.2  \n",
              "id                     \n",
              "0           20.704935  \n",
              "1           21.292911  \n",
              "2           21.166656  \n",
              "3           19.896607  \n",
              "4           20.178428  \n",
              "\n",
              "[5 rows x 94 columns]"
            ]
          },
          "execution_count": 3,
          "metadata": {},
          "output_type": "execute_result"
        }
      ],
      "source": [
        "train_df.head()"
      ]
    },
    {
      "cell_type": "code",
      "execution_count": 7,
      "metadata": {
        "colab": {
          "base_uri": "https://localhost:8080/"
        },
        "id": "eQggxATMfW97",
        "outputId": "9770fbe2-c7f3-4b58-df19-64369134d4dd"
      },
      "outputs": [
        {
          "data": {
            "text/plain": [
              "2700"
            ]
          },
          "execution_count": 7,
          "metadata": {},
          "output_type": "execute_result"
        }
      ],
      "source": [
        "len(train_df)"
      ]
    },
    {
      "cell_type": "code",
      "execution_count": 12,
      "metadata": {
        "colab": {
          "base_uri": "https://localhost:8080/"
        },
        "id": "nN0XMHdqcPer",
        "outputId": "afbfd1dd-d4bd-47e3-c7aa-7fa47a911903"
      },
      "outputs": [
        {
          "data": {
            "text/plain": [
              "1"
            ]
          },
          "execution_count": 12,
          "metadata": {},
          "output_type": "execute_result"
        }
      ],
      "source": [
        "len(train_df.columns[93:])"
      ]
    },
    {
      "cell_type": "markdown",
      "metadata": {
        "id": "_k4t-z85URc5"
      },
      "source": [
        "#Feature Selection"
      ]
    },
    {
      "cell_type": "code",
      "execution_count": 5,
      "metadata": {
        "colab": {
          "base_uri": "https://localhost:8080/"
        },
        "id": "1MZI0KnrUT43",
        "outputId": "6cfaa0f0-d5cc-477a-9c3f-a06d76701073"
      },
      "outputs": [
        {
          "name": "stdout",
          "output_type": "stream",
          "text": [
            "                 Specs          Score\n",
            "75   tested_positive.1  148069.658278\n",
            "57     tested_positive   69603.872591\n",
            "42        hh_cmnty_cli    9235.492094\n",
            "60      hh_cmnty_cli.1    9209.019558\n",
            "78      hh_cmnty_cli.2    9097.375172\n",
            "43      nohh_cmnty_cli    8395.421300\n",
            "61    nohh_cmnty_cli.1    8343.255927\n",
            "79    nohh_cmnty_cli.2    8208.176435\n",
            "40                 cli    6388.906849\n",
            "58               cli.1    6374.548000\n",
            "76               cli.2    6250.008702\n",
            "41                 ili    5998.922880\n",
            "59               ili.1    5937.588576\n",
            "77               ili.2    5796.947672\n",
            "92  worried_finances.2     833.613191\n",
            "74  worried_finances.1     811.916460\n",
            "56    worried_finances     788.076931\n",
            "87    public_transit.2     686.736539\n",
            "69    public_transit.1     681.562902\n",
            "51      public_transit     678.834789\n"
          ]
        },
        {
          "name": "stderr",
          "output_type": "stream",
          "text": [
            "c:\\Users\\123ch\\miniconda3\\envs\\NCKU\\lib\\site-packages\\sklearn\\utils\\validation.py:1184: DataConversionWarning: A column-vector y was passed when a 1d array was expected. Please change the shape of y to (n_samples, ), for example using ravel().\n",
            "  y = column_or_1d(y, warn=True)\n"
          ]
        }
      ],
      "source": [
        "import pandas as pd\n",
        "import numpy as np\n",
        "\n",
        "# data = pd.read_csv('/kaggle/input/ml2021spring-hw1/covid.train.csv')\n",
        "x = train_df[train_df.columns[:93]]\n",
        "y = train_df[train_df.columns[93:]]\n",
        "\n",
        "from sklearn.feature_selection import SelectKBest\n",
        "from sklearn.feature_selection import f_regression\n",
        "\n",
        "from sklearn import preprocessing\n",
        "x = (x - x.min()) / (x.max() - x.min())\n",
        "\n",
        "bestfeatures = SelectKBest(score_func=f_regression, k=5)\n",
        "fit = bestfeatures.fit(x,y)\n",
        "\n",
        "dfscores = pd.DataFrame(fit.scores_)\n",
        "dfcolumns = pd.DataFrame(x.columns)\n",
        "\n",
        "#concat two dataframes for better visualization\n",
        "featureScores = pd.concat([dfcolumns,dfscores],axis=1)\n",
        "featureScores.columns = ['Specs','Score']  #naming the dataframe columns\n",
        "print(featureScores.nlargest(20,'Score'))  #print 15 best features"
      ]
    },
    {
      "cell_type": "code",
      "execution_count": 31,
      "metadata": {
        "colab": {
          "base_uri": "https://localhost:8080/"
        },
        "id": "pJhuERWahxoy",
        "outputId": "81c2b731-8b7c-44e1-b730-2a36d22cf4ef"
      },
      "outputs": [
        {
          "data": {
            "text/plain": [
              "Int64Index([75, 57, 42, 60, 78, 43, 61, 79, 40, 58, 76, 41, 59, 77, 92, 74, 56,\n",
              "            87, 69, 51],\n",
              "           dtype='int64')"
            ]
          },
          "execution_count": 31,
          "metadata": {},
          "output_type": "execute_result"
        }
      ],
      "source": [
        "featureScores.nlargest(20,'Score').index"
      ]
    },
    {
      "cell_type": "markdown",
      "metadata": {
        "id": "mQ1y8msOfbQ3"
      },
      "source": [
        "# Make Dataset & DataLoader"
      ]
    },
    {
      "cell_type": "code",
      "execution_count": 6,
      "metadata": {
        "id": "L_xUHdERfXAe"
      },
      "outputs": [],
      "source": [
        "class COVID19Dataset(Dataset):\n",
        "    def __init__(self, path, mode, all_features=True):\n",
        "        self.mode = mode\n",
        "        data = pd.read_csv(path, index_col='id').values\n",
        "        feats = None\n",
        "        if all_features == False: # 使用篩選後的特徵\n",
        "            feats = [75, 57, 42, 60, 78, 43, 61, 79, 40, 58, 76, 41, 59, 77, 92, 74, 56, 87, 69, 51]\n",
        "        else:\n",
        "            feats = list(range(93))\n",
        "\n",
        "        if mode != \"test\": # 回傳訓練+驗證資料\n",
        "            label = data[:, -1]\n",
        "            data = data[:, feats]\n",
        "\n",
        "            indices = None\n",
        "            if mode == \"train\":\n",
        "                indices = [i for i in range(len(data)) if i % 10 != 0]\n",
        "            elif mode == \"val\":\n",
        "                indices = [i for i in range(len(data)) if i % 10 == 0]\n",
        "\n",
        "            self.data = torch.FloatTensor(data[indices])\n",
        "            self.label = torch.FloatTensor(label[indices])\n",
        "        else:\n",
        "            self.data = torch.FloatTensor(data[:, feats])\n",
        "\n",
        "        if all_features == False:\n",
        "          self.data = (self.data - self.data.mean(dim=0)) / self.data.std(dim=0)\n",
        "        else:\n",
        "          self.data[:, 40:] = (self.data[:, 40:] - self.data[:, 40:].mean(dim=0)) / self.data[:, 40:].std(dim=0)\n",
        "\n",
        "        self.dim = self.data.shape[1]\n",
        "\n",
        "        print(\"完成初步資料讀取與標準化，模式為{}，資料長度為{}\".format(mode, str(len(self.data))))\n",
        "\n",
        "    def __getitem__(self, index):\n",
        "        # Returns one sample at a time\n",
        "        if self.mode in ['train', 'val']:\n",
        "            # For training\n",
        "            return self.data[index], self.label[index]\n",
        "        else:\n",
        "            # For testing (no target)\n",
        "            return self.data[index]\n",
        "\n",
        "    def __len__(self):\n",
        "        # Returns the size of the dataset\n",
        "        return len(self.data)"
      ]
    },
    {
      "cell_type": "code",
      "execution_count": 7,
      "metadata": {
        "id": "Q_3A0pBwfXC1"
      },
      "outputs": [],
      "source": [
        "# DataLoader\n",
        "def prep_dataloader(path, mode, batch_size, n_jobs=0, all_features=True):\n",
        "    ''' Generates a dataset, then is put into a dataloader. '''\n",
        "    dataset = COVID19Dataset(path, mode, all_features)  # Construct dataset\n",
        "    dataloader = DataLoader(\n",
        "        dataset, batch_size,\n",
        "        shuffle=(mode == 'train'), drop_last=False,\n",
        "        num_workers=n_jobs, pin_memory=True)                            # Construct dataloader\n",
        "    return dataloader"
      ]
    },
    {
      "cell_type": "markdown",
      "metadata": {
        "id": "3jxmZfamfmLe"
      },
      "source": [
        "#Construct Model"
      ]
    },
    {
      "cell_type": "code",
      "execution_count": 8,
      "metadata": {
        "colab": {
          "base_uri": "https://localhost:8080/"
        },
        "id": "Or3QltO3mYFp",
        "outputId": "992cc441-b3f3-48e0-af97-73fbff27f769"
      },
      "outputs": [
        {
          "data": {
            "text/plain": [
              "torch.Size([1])"
            ]
          },
          "execution_count": 8,
          "metadata": {},
          "output_type": "execute_result"
        }
      ],
      "source": [
        "dummy = torch.tensor(range(30), dtype=torch.float)\n",
        "\n",
        "net = nn.Sequential(\n",
        "  nn.Linear(30, 128),\n",
        "  nn.ReLU(),\n",
        "  nn.Linear(128, 64),\n",
        "  nn.ReLU(),\n",
        "  nn.Linear(64, 1)\n",
        ")\n",
        "\n",
        "out = net(dummy)\n",
        "out.shape"
      ]
    },
    {
      "cell_type": "code",
      "execution_count": 18,
      "metadata": {
        "id": "pHvT6IMiffgb"
      },
      "outputs": [],
      "source": [
        "class MyModel(nn.Module):\n",
        "    def __init__(self, input_dim):\n",
        "        super(MyModel, self).__init__()\n",
        "\n",
        "        self.net = nn.Sequential(\n",
        "            nn.Linear(input_dim, 128),\n",
        "            nn.ReLU(),\n",
        "            nn.Dropout(p=0.3),# 降低過擬合\n",
        "            nn.Linear(128, 64),\n",
        "            nn.ReLU(),\n",
        "            nn.Dropout(p=0.2),# 降低過擬合\n",
        "            nn.Linear(64, 1)\n",
        "        )\n",
        "\n",
        "        self.criterion = nn.MSELoss(reduction = \"mean\")\n",
        "\n",
        "    def forward(self, x):\n",
        "        return self.net(x).squeeze(1)\n",
        "\n",
        "    def cal_loss(self, pred, label):\n",
        "        return self.criterion(pred, label)"
      ]
    },
    {
      "cell_type": "markdown",
      "metadata": {
        "id": "wjAuvjxijfSI"
      },
      "source": [
        "# Set hyperparameter"
      ]
    },
    {
      "cell_type": "code",
      "execution_count": 23,
      "metadata": {
        "id": "wHTvTAbAjhl5"
      },
      "outputs": [],
      "source": [
        "config = {\n",
        "    'n_epochs': 3000,                # maximum number of epochs\n",
        "    'batch_size': 200,               # mini-batch size for dataloader\n",
        "    'optimizer': 'SGD',              # optimization algorithm (optimizer in torch.optim)\n",
        "    'optim_hparas': {                # hyper-parameters for the optimizer (depends on which optimizer you are using)\n",
        "        'lr': 0.001,                 # learning rate of SGD\n",
        "        'momentum': 0.9              # momentum for SGD\n",
        "    },\n",
        "    'early_stop': 250,               # early stopping epochs (the number epochs since your model's last improvement)\n",
        "    'save_path': './model.pth'  # your model will be saved here\n",
        "}"
      ]
    },
    {
      "cell_type": "markdown",
      "metadata": {
        "id": "AyFQyozFfrSc"
      },
      "source": [
        "#Load data & model"
      ]
    },
    {
      "cell_type": "code",
      "execution_count": 19,
      "metadata": {
        "colab": {
          "base_uri": "https://localhost:8080/"
        },
        "id": "yZOxInGIffig",
        "outputId": "df9b0b85-b524-4da8-9e97-20ddbae955b9"
      },
      "outputs": [
        {
          "name": "stdout",
          "output_type": "stream",
          "text": [
            "完成初步資料讀取與標準化，模式為train，資料長度為2430\n",
            "完成初步資料讀取與標準化，模式為val，資料長度為270\n",
            "完成初步資料讀取與標準化，模式為test，資料長度為893\n"
          ]
        }
      ],
      "source": [
        "train_loader = prep_dataloader(\"./covid.train.csv\", \"train\", config['batch_size'], False)\n",
        "val_loader = prep_dataloader(\"./covid.train.csv\", 'val', config['batch_size'], False)\n",
        "test_loader = prep_dataloader(\"./covid.test.csv\", 'test', config['batch_size'], False)\n",
        "\n",
        "device = torch.device(\"cuda\")\n",
        "model = None\n",
        "model = MyModel(train_loader.dataset.dim).to(device)"
      ]
    },
    {
      "cell_type": "markdown",
      "metadata": {
        "id": "2MzchbJnhD8F"
      },
      "source": [
        "#Start training"
      ]
    },
    {
      "cell_type": "code",
      "execution_count": 15,
      "metadata": {
        "id": "IcCS3KLWffkv"
      },
      "outputs": [],
      "source": [
        "def test(model, test_loader):\n",
        "    model.eval()\n",
        "    preds = []\n",
        "    for data in test_loader:\n",
        "        data = data.to(device)\n",
        "        with torch.no_grad():\n",
        "            pred = model(data)\n",
        "            preds.append(pred.detach().cpu())   # collect prediction\n",
        "    preds = torch.cat(preds, dim=0).numpy()     # concatenate all predictions and convert to a numpy array\n",
        "    return preds\n",
        "\n",
        "def validate(model, val_loader, device):\n",
        "    model.eval()\n",
        "    total_loss = 0.0\n",
        "    for data, label in val_loader:\n",
        "        data, label = data.to(device), label.to(device)\n",
        "        with torch.no_grad():\n",
        "            pred = model(data)\n",
        "            mse_loss = model.cal_loss(pred, label)\n",
        "        total_loss += mse_loss.detach().cpu().item()\n",
        "    return total_loss/len(val_loader)\n",
        "\n",
        "\n",
        "def train(model, config, train_loader, val_loader, device):\n",
        "    optimizer = getattr(torch.optim, config['optimizer'])(model.parameters(), **config['optim_hparas'])\n",
        "    epochs = config['n_epochs']\n",
        "    early_stop_epo = config['early_stop']\n",
        "    save_path = config['save_path']\n",
        "\n",
        "    loss_record = {'train': [], 'dev': []}\n",
        "    min_mse = 1000.\n",
        "    early_stop_cnt = 0\n",
        "    for epoch in range(epochs):\n",
        "        model.train()\n",
        "        train_loss = 0.0\n",
        "        for data, label in train_loader:\n",
        "            optimizer.zero_grad()\n",
        "            data, label = data.to(device), label.to(device)\n",
        "\n",
        "            pred = model(data)\n",
        "            mse_loss = model.cal_loss(pred, label)\n",
        "            mse_loss.backward() # compute gradient (backpropagation)\n",
        "            optimizer.step() # update model with optimizer\n",
        "            train_loss += mse_loss.detach().cpu().item()\n",
        "        loss_record['train'].append(train_loss/len(train_loader))\n",
        "\n",
        "        # 一個 epoch 結束就算一次驗證\n",
        "        val_loss = validate(model, val_loader, device)\n",
        "        loss_record['dev'].append(val_loss)\n",
        "\n",
        "        # 若 val_loss < min_mse 就儲存模型\n",
        "        if val_loss < min_mse:\n",
        "            min_mse = val_loss\n",
        "            print('save model(epoch = {:4d}, loss = {:.4f})'.format(epoch + 1, min_mse))\n",
        "            torch.save(model.state_dict(), save_path)  # Save model to specified path\n",
        "            early_stop_cnt = 0\n",
        "        else:\n",
        "            early_stop_cnt += 1\n",
        "\n",
        "        if early_stop_cnt >= early_stop_epo:\n",
        "            print(\"超過{}個epoch沒有儲存模型，早停!\".format(str(early_stop_epo)))\n",
        "            break\n",
        "\n",
        "    print('Finished training after {} epochs'.format(epoch))\n",
        "    return min_mse, loss_record"
      ]
    },
    {
      "cell_type": "code",
      "execution_count": 22,
      "metadata": {
        "colab": {
          "base_uri": "https://localhost:8080/"
        },
        "id": "dfM-6VMQjlgH",
        "outputId": "c27076d7-df11-486b-e695-a7d47b069c2d"
      },
      "outputs": [
        {
          "name": "stdout",
          "output_type": "stream",
          "text": [
            "save model(epoch =    1, loss = 19.5003)\n",
            "save model(epoch =    2, loss = 5.4826)\n",
            "save model(epoch =    3, loss = 3.8641)\n",
            "save model(epoch =    4, loss = 2.6004)\n",
            "save model(epoch =    6, loss = 1.7998)\n",
            "save model(epoch =    8, loss = 1.5401)\n",
            "save model(epoch =   10, loss = 1.4893)\n",
            "save model(epoch =   13, loss = 1.3459)\n",
            "save model(epoch =   20, loss = 1.3001)\n",
            "save model(epoch =   22, loss = 1.2630)\n",
            "save model(epoch =   23, loss = 0.9919)\n",
            "save model(epoch =   38, loss = 0.9600)\n",
            "save model(epoch =   53, loss = 0.9589)\n",
            "save model(epoch =   57, loss = 0.9408)\n",
            "save model(epoch =   60, loss = 0.9111)\n",
            "save model(epoch =   68, loss = 0.9022)\n",
            "save model(epoch =   84, loss = 0.8402)\n",
            "save model(epoch =  133, loss = 0.8240)\n",
            "save model(epoch =  164, loss = 0.8114)\n",
            "save model(epoch =  199, loss = 0.8105)\n",
            "save model(epoch =  271, loss = 0.8016)\n",
            "save model(epoch =  365, loss = 0.7909)\n",
            "save model(epoch =  417, loss = 0.7905)\n",
            "save model(epoch =  429, loss = 0.7883)\n",
            "save model(epoch =  433, loss = 0.7749)\n",
            "save model(epoch =  520, loss = 0.7718)\n",
            "save model(epoch =  546, loss = 0.7712)\n",
            "save model(epoch =  555, loss = 0.7679)\n",
            "save model(epoch =  592, loss = 0.7656)\n",
            "save model(epoch =  606, loss = 0.7655)\n",
            "save model(epoch =  616, loss = 0.7565)\n",
            "save model(epoch =  628, loss = 0.7434)\n",
            "save model(epoch =  629, loss = 0.7281)\n",
            "超過250個epoch沒有儲存模型，早停!\n",
            "Finished training after 878 epochs\n"
          ]
        }
      ],
      "source": [
        "min_mse, loss_record = train(model, config, train_loader, val_loader, device)"
      ]
    },
    {
      "cell_type": "code",
      "execution_count": 24,
      "metadata": {
        "colab": {
          "base_uri": "https://localhost:8080/",
          "height": 472
        },
        "id": "I_kebMHsffmv",
        "outputId": "6c7cf730-38d7-4167-eee4-6acec4052701"
      },
      "outputs": [
        {
          "data": {
            "image/png": "[encoded data removed]",
            "text/plain": [
              "<Figure size 640x480 with 1 Axes>"
            ]
          },
          "metadata": {},
          "output_type": "display_data"
        }
      ],
      "source": [
        "import matplotlib.pyplot as plt\n",
        "\n",
        "# 取得 'train' 和 'dev' 的 x 軸資料，這裡假設 x 軸是 [1, 2, 3]\n",
        "x_data = list(range(1, len(loss_record['train']) + 1))\n",
        "\n",
        "# 'train' 和 'dev' 的 y 軸資料\n",
        "train_losses = loss_record['train']\n",
        "dev_losses = loss_record['dev']\n",
        "\n",
        "# 繪製 'train' 和 'dev' 的趨勢直線圖\n",
        "plt.plot(x_data, train_losses, label='Train Loss')\n",
        "plt.plot(x_data, dev_losses, label='Dev Loss')\n",
        "\n",
        "# 設定圖表標題和軸標籤\n",
        "plt.title('Train and Dev Loss Trend')\n",
        "plt.xlabel('Epochs')\n",
        "plt.ylabel('Loss')\n",
        "\n",
        "# 加入圖例\n",
        "plt.legend()\n",
        "\n",
        "# 顯示圖表\n",
        "plt.show()"
      ]
    },
    {
      "cell_type": "markdown",
      "metadata": {
        "id": "AD1tWzEip9uT"
      },
      "source": [
        "# Load the best model"
      ]
    },
    {
      "cell_type": "code",
      "execution_count": 25,
      "metadata": {
        "colab": {
          "base_uri": "https://localhost:8080/",
          "height": 487
        },
        "id": "UJDZASuCqAq3",
        "outputId": "06ae8656-a810-430a-8691-0f7513d67ce2"
      },
      "outputs": [
        {
          "data": {
            "image/png": "[encoded data removed]",
            "text/plain": [
              "<Figure size 500x500 with 1 Axes>"
            ]
          },
          "metadata": {},
          "output_type": "display_data"
        }
      ],
      "source": [
        "def plot_pred(dv_set, model, device, lim=35., preds=None, targets=None):\n",
        "    ''' Plot prediction of your DNN '''\n",
        "    if preds is None or targets is None:\n",
        "        model.eval()\n",
        "        preds, targets = [], []\n",
        "        for x, y in dv_set:\n",
        "            x, y = x.to(device), y.to(device)\n",
        "            with torch.no_grad():\n",
        "                pred = model(x)\n",
        "                preds.append(pred.detach().cpu())\n",
        "                targets.append(y.detach().cpu())\n",
        "        preds = torch.cat(preds, dim=0).numpy()\n",
        "        targets = torch.cat(targets, dim=0).numpy()\n",
        "\n",
        "    figure(figsize=(5, 5))\n",
        "    plt.scatter(targets, preds, c='r', alpha=0.5)\n",
        "    plt.plot([-0.2, lim], [-0.2, lim], c='b')\n",
        "    plt.xlim(-0.2, lim)\n",
        "    plt.ylim(-0.2, lim)\n",
        "    plt.xlabel('ground truth value')\n",
        "    plt.ylabel('predicted value')\n",
        "    plt.title('Ground Truth v.s. Prediction')\n",
        "    plt.show()\n",
        "\n",
        "del model\n",
        "model = MyModel(train_loader.dataset.dim).to(device)\n",
        "ckpt = torch.load(config['save_path'], map_location='cpu')  # Load your best model\n",
        "model.load_state_dict(ckpt)\n",
        "plot_pred(val_loader, model, device)  # Show prediction on the validation set"
      ]
    },
    {
      "cell_type": "markdown",
      "metadata": {
        "id": "q3p4Jn0gnzdt"
      },
      "source": [
        "# Testing"
      ]
    },
    {
      "cell_type": "code",
      "execution_count": 26,
      "metadata": {
        "id": "6L7jh5dFn2Vv"
      },
      "outputs": [],
      "source": [
        "test_preds = test(model, test_loader)"
      ]
    },
    {
      "cell_type": "code",
      "execution_count": 28,
      "metadata": {},
      "outputs": [
        {
          "data": {
            "text/plain": [
              "array([20.149685 ,  4.8888693,  5.483432 , 10.515713 ,  4.1434703,\n",
              "       28.95821  , 25.396555 ,  6.9770956, 12.234716 , 11.128264 ,\n",
              "       17.448273 , 20.878296 , 23.087524 , 14.758263 , 20.958832 ,\n",
              "       19.284138 , 28.834782 ,  8.331654 , 22.595995 ,  4.2649446,\n",
              "        6.4674883, 23.863575 , 17.791958 , 13.430858 , 12.371228 ,\n",
              "       28.088238 , 26.129772 , 26.884731 ,  6.5516987, 20.336048 ,\n",
              "        9.296518 ,  6.444986 , 27.341484 , 10.6613655, 21.323668 ,\n",
              "       31.721558 , 12.477329 ,  6.3905544, 16.369053 ,  7.500861 ,\n",
              "       16.28888  ,  4.8280973,  8.331506 , 17.387142 ,  6.1981745,\n",
              "       16.484585 , 14.7711935,  4.954223 ,  6.5657783, 16.82837  ,\n",
              "       16.772858 , 14.51182  , 13.780316 ,  8.418737 , 13.194754 ,\n",
              "       29.820187 ,  8.771186 , 16.217197 , 33.887505 , 10.549304 ,\n",
              "       20.626099 , 21.801413 , 26.155819 , 23.161324 , 18.290035 ,\n",
              "        5.503658 , 13.595828 , 24.385471 , 33.780388 , 17.77156  ,\n",
              "       19.269375 , 17.136929 , 12.349889 , 26.072006 , 11.230018 ,\n",
              "        3.6377535, 19.23119  , 13.395221 ,  7.2735167,  7.6284075,\n",
              "       17.121914 , 11.292967 , 11.923952 , 15.781164 ,  9.248926 ,\n",
              "       17.528643 , 23.819035 , 10.422526 ,  6.150618 , 17.065472 ,\n",
              "       28.1865   , 35.963272 , 17.931965 ,  6.1754303, 11.013217 ,\n",
              "       11.5883255, 10.947248 , 22.823084 , 12.877073 , 11.695274 ,\n",
              "        5.8985004,  9.201377 , 14.669824 , 13.0096245,  6.374919 ,\n",
              "       31.481663 , 29.280968 , 10.583605 , 20.156261 ,  8.622992 ,\n",
              "       14.438334 ,  6.7885513, 20.267857 , 24.215618 , 14.809298 ,\n",
              "       10.08342  ,  8.664431 , 29.844276 , 19.405622 , 10.653376 ,\n",
              "       12.031681 , 23.627167 ,  9.478026 , 19.856342 , 32.673462 ,\n",
              "       12.980961 , 11.455925 ,  6.1108193,  4.711277 , 11.559414 ,\n",
              "       18.136276 , 14.564455 , 12.577285 , 15.79612  , 23.46352  ,\n",
              "       19.498903 , 22.632984 ,  5.947114 , 16.422384 , 34.11565  ,\n",
              "       24.968456 , 18.458466 , 25.596725 , 26.298824 , 11.524776 ,\n",
              "       35.83826  ,  5.392436 , 12.569439 , 20.178375 , 16.467897 ,\n",
              "       20.955425 ,  8.406962 , 21.05534  ,  5.503572 , 33.595734 ,\n",
              "       16.87492  , 17.01979  , 27.293762 , 18.198822 , 16.710636 ,\n",
              "       18.212837 , 23.908566 , 13.099578 , 15.488976 , 16.031261 ,\n",
              "       24.167255 , 27.934608 , 16.478094 , 28.492455 , 16.95436  ,\n",
              "       11.953497 , 12.466488 , 25.326786 , 40.120983 , 20.609669 ,\n",
              "        6.045952 ,  7.750255 , 33.83062  , 28.943138 , 24.29686  ,\n",
              "       17.01926  , 23.957287 , 26.7846   , 10.326491 , 20.025394 ,\n",
              "        9.499539 , 20.171093 ,  5.272435 , 12.848047 , 26.32439  ,\n",
              "        4.8704166, 23.846981 , 25.426418 ,  7.8197746, 13.12928  ,\n",
              "       31.288273 ,  8.400473 , 27.060013 , 11.837272 , 19.222862 ,\n",
              "       24.60231  , 15.924452 , 23.255169 , 13.724378 , 26.780869 ,\n",
              "       21.414413 , 15.954544 , 28.40747  , 16.622417 ,  6.55005  ,\n",
              "        9.923979 , 16.489353 , 31.328503 ,  5.6528378, 11.8971615,\n",
              "       14.180801 ,  7.607454 , 13.933229 , 11.091793 , 10.69762  ,\n",
              "       15.710041 ,  8.816487 , 14.518791 , 12.897629 , 24.20692  ,\n",
              "       21.438618 , 14.931912 ,  6.7856903, 10.754242 , 33.412598 ,\n",
              "       16.419329 ,  6.403773 , 14.503248 , 21.117981 ,  9.837036 ,\n",
              "       34.174885 , 19.536274 , 20.864761 , 20.713535 , 31.662971 ,\n",
              "       11.603237 , 27.746655 , 27.98048  , 29.339851 , 13.299745 ,\n",
              "       11.446632 , 15.07565  , 27.338951 , 19.825474 , 10.923452 ,\n",
              "       21.817913 , 16.44524  , 20.060143 , 11.364737 , 12.052653 ,\n",
              "       10.453017 ,  6.4389997, 18.730873 , 15.139027 ,  5.5230484,\n",
              "       13.793526 ,  4.13146  ,  6.5278916, 21.453629 , 15.963009 ,\n",
              "        6.409486 , 25.430084 , 26.143528 ,  7.022563 , 12.093695 ,\n",
              "       14.692401 ,  8.569321 , 21.221626 , 10.510683 ,  7.9184384,\n",
              "       17.060524 , 19.7518   ,  7.1705103, 14.516773 , 17.67455  ,\n",
              "       21.24324  , 20.546074 , 18.29197  , 24.52554  , 18.049538 ,\n",
              "       22.16935  , 22.161892 , 29.434471 ,  5.8580613, 20.0914   ,\n",
              "       13.122151 , 17.51065  ,  5.528502 ,  4.841005 , 22.42041  ,\n",
              "       15.618237 ,  5.631441 , 23.39119  , 10.033059 , 10.494458 ,\n",
              "       12.049063 , 22.03476  , 10.646519 , 19.62199  , 13.70495  ,\n",
              "       18.394821 , 22.889442 , 31.292725 , 13.367962 , 12.268823 ,\n",
              "       11.163426 , 24.944706 ,  9.968442 , 23.124535 , 17.982233 ,\n",
              "       15.877309 , 29.195255 , 19.372738 , 18.891994 , 15.322982 ,\n",
              "        4.5487604,  5.9056287, 26.864925 , 18.828827 ,  6.2619658,\n",
              "       19.742737 ,  4.5234385, 24.144627 , 19.202314 , 25.094921 ,\n",
              "        9.937301 , 24.736317 , 12.754454 ,  5.6658697, 12.2737   ,\n",
              "       12.217501 , 24.185741 ,  9.384239 , 10.866932 , 22.224512 ,\n",
              "       15.165158 ,  9.570179 , 21.3171   , 14.556104 ,  5.0767565,\n",
              "       18.936516 , 28.405651 , 22.578804 , 20.191322 , 17.472393 ,\n",
              "        8.1402645, 24.071201 , 17.456451 , 14.512409 ,  6.509383 ,\n",
              "       18.197796 , 23.190556 , 16.987408 , 22.772404 , 15.351326 ,\n",
              "        5.7614045, 18.938396 ,  8.80314  , 13.341138 , 18.164726 ,\n",
              "       34.085823 , 17.342487 , 16.848886 ,  6.5067887, 15.049778 ,\n",
              "       16.376238 , 16.545187 , 17.419851 , 12.83371  ,  4.961134 ,\n",
              "       14.239768 ,  9.414786 , 10.634802 , 16.950363 , 19.958988 ,\n",
              "       26.699883 , 15.987901 , 10.67884  , 21.13683  ,  4.4419966,\n",
              "       15.306576 , 17.070812 , 17.086208 , 15.341601 , 16.742674 ,\n",
              "       30.466782 , 12.172728 , 29.636337 , 17.978956 ,  7.231512 ,\n",
              "       15.621216 , 29.196957 , 18.943207 , 22.825474 , 13.426088 ,\n",
              "       15.46607  , 18.814066 ,  7.095698 , 32.02813  , 32.558685 ,\n",
              "       11.3689785,  9.643057 , 25.279125 , 12.498919 , 17.345726 ,\n",
              "       19.908867 ,  7.4542084, 24.957985 , 12.458863 ,  8.883724 ,\n",
              "       18.154392 , 20.615282 , 24.8054   , 27.027279 , 10.0142565,\n",
              "       16.132862 ,  5.2560806,  7.5868626, 10.786642 , 21.572525 ,\n",
              "       13.486023 , 18.517921 ,  9.700204 , 32.590176 , 22.802921 ,\n",
              "       11.576786 , 19.623531 , 16.731236 , 12.72518  ,  6.135044 ,\n",
              "       21.563002 , 34.42302  , 13.107309 ,  4.837178 ,  4.4580727,\n",
              "        8.308351 ,  5.902883 , 19.66412  , 19.947018 , 20.06839  ,\n",
              "        4.865862 ,  4.640914 , 13.594098 , 24.833443 , 24.122728 ,\n",
              "       15.460036 ,  6.742955 , 27.696938 , 14.151902 , 12.332989 ,\n",
              "       10.676518 , 23.68766  , 16.962547 , 21.356241 ,  6.060299 ,\n",
              "       21.87019  ,  9.77841  , 16.716705 , 16.403673 ,  7.850507 ,\n",
              "        9.524496 ,  9.085548 ,  7.574191 , 11.3498125, 23.851147 ,\n",
              "       18.059452 , 12.467478 , 24.165829 , 11.589178 , 14.3170395,\n",
              "        5.875339 , 13.63591  , 19.626614 , 22.776886 , 22.727673 ,\n",
              "       23.967043 , 20.877666 , 27.010162 , 19.878265 , 27.512867 ,\n",
              "        5.4919147, 19.297592 , 17.006878 , 23.497034 ,  7.898732 ,\n",
              "       13.023905 , 21.416    , 17.771671 , 15.243817 , 16.799139 ,\n",
              "       15.640524 , 15.548372 ,  5.4474654,  5.234375 , 11.768004 ,\n",
              "       15.276449 ,  5.766161 , 19.370317 , 11.337316 , 23.959198 ,\n",
              "       25.305065 , 21.759842 , 10.729076 ,  9.561869 , 18.88438  ,\n",
              "       17.562155 , 14.201923 , 19.62632  ,  8.41005  , 24.929955 ,\n",
              "       14.1935835, 13.416127 , 13.139037 , 13.90769  , 28.589157 ,\n",
              "       26.711487 , 16.157772 , 18.383904 , 23.921875 , 10.687272 ,\n",
              "       32.62574  ,  4.9321837, 17.250893 , 16.613894 ,  7.5955906,\n",
              "       16.596304 , 11.4377   , 11.987625 , 12.796245 , 22.669638 ,\n",
              "        4.919731 , 25.651058 , 10.006943 , 24.500309 , 15.723132 ,\n",
              "       41.41494  , 14.000298 , 20.048492 ,  6.0578637,  8.929702 ,\n",
              "       10.82506  ,  6.570394 , 25.82027  , 20.761185 , 12.826359 ,\n",
              "       11.464554 ,  6.9459777, 20.23954  , 28.119545 , 21.797508 ,\n",
              "        6.0504932, 14.829721 , 15.821295 , 25.447906 , 17.522736 ,\n",
              "       10.984884 , 11.603885 , 23.17295  , 19.033272 , 23.816185 ,\n",
              "       12.087156 , 22.502857 , 26.494652 ,  6.099518 , 26.970024 ,\n",
              "       13.678558 , 16.914654 , 29.188297 , 23.553688 ,  5.5592384,\n",
              "       19.53548  , 25.447975 , 35.24268  , 18.123177 , 20.6119   ,\n",
              "       11.532344 ,  9.806977 , 13.989269 , 10.363301 , 16.532999 ,\n",
              "        9.463169 , 32.543274 , 11.796577 ,  6.836012 , 11.001711 ,\n",
              "       10.502511 , 23.090885 , 21.246372 , 33.228756 , 30.270481 ,\n",
              "       32.13257  ,  9.59751  , 13.260006 , 23.218243 , 25.16934  ,\n",
              "        7.3648663,  8.235425 , 18.068737 , 18.089407 , 18.691986 ,\n",
              "       22.422276 , 18.177513 , 29.414783 , 14.780015 , 23.429268 ,\n",
              "        6.088011 , 16.563694 , 10.476887 , 27.425388 , 25.134708 ,\n",
              "       10.123744 , 24.07933  , 12.697933 , 19.686789 , 10.384326 ,\n",
              "        6.9467273, 14.803778 , 10.050699 , 23.095287 , 11.667435 ,\n",
              "       27.55204  , 14.587343 , 16.780045 , 18.646027 , 10.428482 ,\n",
              "       29.486004 , 18.563152 , 29.38115  , 25.918003 , 19.511211 ,\n",
              "       10.312038 , 18.254818 , 10.387406 , 19.882    , 20.11402  ,\n",
              "        8.808407 , 11.399236 , 26.246273 , 31.793846 , 22.624498 ,\n",
              "       29.379574 ,  8.138985 , 25.344189 ,  5.215525 , 12.595129 ,\n",
              "       15.011623 , 18.467384 , 11.433526 , 11.890497 , 14.874193 ,\n",
              "       15.599402 , 13.570929 , 30.561588 , 12.16006  ,  7.131027 ,\n",
              "       28.056385 , 26.898285 ,  9.567479 , 11.362982 , 11.019711 ,\n",
              "        6.1110277, 25.464748 ,  9.685744 , 22.216263 , 22.422039 ,\n",
              "       12.837248 ,  7.8934298,  7.083803 , 16.243603 ,  4.779457 ,\n",
              "       13.612013 , 22.89302  , 25.656296 , 16.24384  , 11.207946 ,\n",
              "       15.28055  , 11.382111 , 16.884953 , 20.154285 ,  4.5683913,\n",
              "       27.386673 , 18.539894 , 15.0966   ,  6.528818 , 11.744755 ,\n",
              "       17.491005 ,  7.8955774, 14.7868805,  3.5879302,  4.7805233,\n",
              "       10.932996 , 22.902527 , 30.634033 , 27.827084 ,  5.8058424,\n",
              "        7.240743 ,  3.7299948, 19.240128 , 16.989174 , 28.770851 ,\n",
              "        6.6385913, 16.891577 ,  5.564379 , 10.73404  , 13.013803 ,\n",
              "       21.105232 ,  8.105775 , 24.667084 , 11.4923315,  5.667628 ,\n",
              "        4.5995607,  8.824783 , 21.123753 , 12.241254 , 22.015957 ,\n",
              "        8.647941 ,  5.744315 , 20.046192 , 25.792423 ,  6.667571 ,\n",
              "       18.074696 ,  3.81818  , 13.694592 ,  6.468047 , 17.680882 ,\n",
              "        6.7598653,  8.442114 , 20.379776 ,  7.4153347, 20.952261 ,\n",
              "       15.215387 ,  6.52652  , 22.0132   ,  6.668491 , 24.571827 ,\n",
              "       17.545753 , 17.74311  , 11.405847 , 23.493977 , 14.477975 ,\n",
              "       14.793066 , 28.115536 , 29.467113 , 17.537685 ,  6.751954 ,\n",
              "        6.3881536, 24.269974 ,  5.9880304, 10.947805 , 19.074245 ,\n",
              "       20.124378 , 19.988163 , 16.94078  , 11.429064 ,  9.482608 ,\n",
              "       16.308247 ,  9.94614  ,  6.17532  , 24.441866 , 30.158112 ,\n",
              "       22.530819 , 20.867542 ,  7.372166 , 12.984869 , 14.286982 ,\n",
              "       18.491287 , 12.106057 , 25.008152 , 18.86227  ,  5.224766 ,\n",
              "        9.49384  , 22.929695 , 21.808533 , 18.086739 , 12.701636 ,\n",
              "       22.848103 , 32.33061  , 17.745396 , 20.649982 , 10.971374 ,\n",
              "        6.6325765,  6.341711 , 21.078568 , 22.796745 , 15.608423 ,\n",
              "       20.019493 ,  6.6844206, 12.380023 , 15.460868 , 10.481017 ,\n",
              "       20.136915 , 13.063268 , 14.127118 ,  7.6561813, 16.219498 ,\n",
              "       13.539875 , 10.706361 ,  8.809686 , 12.706253 , 12.5082855,\n",
              "       22.24607  , 10.568596 , 20.497486 , 20.639423 , 28.376648 ,\n",
              "       15.372665 , 18.307404 , 14.200147 , 16.150753 ,  7.1290035,\n",
              "        4.6396847,  6.9743834, 16.283405 , 30.076637 ,  9.132716 ,\n",
              "       23.825039 , 15.67151  , 16.27993  , 19.683273 , 24.690407 ,\n",
              "        6.2915764, 10.06117  , 19.995522 , 21.063446 , 15.589331 ,\n",
              "       18.454067 ,  4.3033986, 12.998791 , 12.079688 , 13.88476  ,\n",
              "       28.730762 , 12.687883 , 17.546095 , 21.996334 , 18.18549  ,\n",
              "       19.549206 , 38.528214 , 33.20891  , 19.004395 , 19.271427 ,\n",
              "        5.900517 , 13.967174 , 17.629406 ,  8.905403 , 13.977053 ,\n",
              "        5.521997 ,  6.476245 ,  7.502281 ,  9.957195 ,  8.135488 ,\n",
              "       24.383034 , 22.79803  , 22.194801 ,  6.777402 , 13.911601 ,\n",
              "       20.846092 , 20.753658 , 21.38126  , 21.359438 , 13.465317 ,\n",
              "        6.848597 ,  7.289492 ,  9.300491 , 24.496292 , 23.852306 ,\n",
              "        8.716181 , 11.767031 , 14.998373 , 33.887817 , 27.967964 ,\n",
              "       17.822159 , 18.499424 , 12.387723 , 19.759869 , 17.618065 ,\n",
              "        7.843584 , 13.164279 , 10.12399  , 13.789389 , 27.442093 ,\n",
              "       15.641538 , 29.647617 , 19.23161  , 13.083971 ,  5.9516783,\n",
              "       32.83166  , 25.853039 , 18.37328  ], dtype=float32)"
            ]
          },
          "execution_count": 28,
          "metadata": {},
          "output_type": "execute_result"
        }
      ],
      "source": [
        "test_preds"
      ]
    },
    {
      "cell_type": "code",
      "execution_count": 31,
      "metadata": {
        "colab": {
          "base_uri": "https://localhost:8080/"
        },
        "id": "N5ecp7_eqc0v",
        "outputId": "0d4b88fe-334b-408e-b57f-4f89c026bfc1"
      },
      "outputs": [
        {
          "name": "stdout",
          "output_type": "stream",
          "text": [
            "Saving results to pred.csv\n"
          ]
        }
      ],
      "source": [
        "def save_pred(preds, file):\n",
        "    ''' Save predictions to specified file '''\n",
        "    print('Saving results to {}'.format(file))\n",
        "    with open(file, 'w', newline='') as fp:\n",
        "        writer = csv.writer(fp)\n",
        "        writer.writerow(['id', 'tested_positive'])\n",
        "        for i, p in enumerate(preds):\n",
        "            writer.writerow([i, p])\n",
        "save_pred(test_preds, 'pred.csv')         # save prediction file to pred.csv"
      ]
    }
  ],
  "metadata": {
    "accelerator": "GPU",
    "colab": {
      "gpuType": "T4",
      "provenance": []
    },
    "kernelspec": {
      "display_name": "Python 3",
      "name": "python3"
    },
    "language_info": {
      "codemirror_mode": {
        "name": "ipython",
        "version": 3
      },
      "file_extension": ".py",
      "mimetype": "text/x-python",
      "name": "python",
      "nbconvert_exporter": "python",
      "pygments_lexer": "ipython3",
      "version": "3.8.15"
    }
  },
  "nbformat": 4,
  "nbformat_minor": 0
}
