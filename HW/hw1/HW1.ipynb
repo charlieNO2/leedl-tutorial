{
  "nbformat": 4,
  "nbformat_minor": 0,
  "metadata": {
    "colab": {
      "provenance": [],
      "gpuType": "T4"
    },
    "kernelspec": {
      "name": "python3",
      "display_name": "Python 3"
    },
    "language_info": {
      "name": "python"
    },
    "accelerator": "GPU"
  },
  "cells": [
    {
      "cell_type": "code",
      "execution_count": 1,
      "metadata": {
        "id": "h90HxprXfO0M"
      },
      "outputs": [],
      "source": [
        "# PyTorch\n",
        "import torch\n",
        "import torch.nn as nn\n",
        "from torch.utils.data import Dataset, DataLoader\n",
        "\n",
        "# For data preprocess\n",
        "import numpy as np\n",
        "import csv\n",
        "import os\n",
        "import pandas as pd\n",
        "\n",
        "# For plotting\n",
        "import matplotlib.pyplot as plt\n",
        "from matplotlib.pyplot import figure\n",
        "\n",
        "myseed = 42069  # set a random seed for reproducibility\n",
        "torch.backends.cudnn.deterministic = True\n",
        "torch.backends.cudnn.benchmark = False\n",
        "np.random.seed(myseed)\n",
        "torch.manual_seed(myseed)\n",
        "if torch.cuda.is_available():\n",
        "    torch.cuda.manual_seed_all(myseed)"
      ]
    },
    {
      "cell_type": "code",
      "source": [
        "from google.colab import drive\n",
        "drive.mount('/content/drive')"
      ],
      "metadata": {
        "colab": {
          "base_uri": "https://localhost:8080/"
        },
        "id": "9iobirXEf3WT",
        "outputId": "0bc3bacb-5ffa-4c33-b11f-7bb3cdcd8a6f"
      },
      "execution_count": 2,
      "outputs": [
        {
          "output_type": "stream",
          "name": "stdout",
          "text": [
            "Mounted at /content/drive\n"
          ]
        }
      ]
    },
    {
      "cell_type": "markdown",
      "source": [
        "# 下載檔案"
      ],
      "metadata": {
        "id": "xrBog3u7fPxV"
      }
    },
    {
      "cell_type": "code",
      "source": [
        "train_df = pd.read_csv('/content/drive/MyDrive/Colab Notebooks/ML_2021/hw1/covid.train.csv', index_col='id')\n",
        "test_df = pd.read_csv('/content/drive/MyDrive/Colab Notebooks/ML_2021/hw1/covid.test.csv', index_col='id')\n",
        "# sample_df = pd.read_csv('/content/drive/MyDrive/Colab Notebooks/ML_2021/hw1/sampleSubmission.csv', index_col='id')"
      ],
      "metadata": {
        "id": "MQT2ywCAfR1_"
      },
      "execution_count": 3,
      "outputs": []
    },
    {
      "cell_type": "code",
      "source": [
        "train_df.head()"
      ],
      "metadata": {
        "colab": {
          "base_uri": "https://localhost:8080/",
          "height": 311
        },
        "id": "d-6UW8e5fW7t",
        "outputId": "0cc6bf88-b97b-4e6b-d376-7d6f0a1c9794"
      },
      "execution_count": 4,
      "outputs": [
        {
          "output_type": "execute_result",
          "data": {
            "text/plain": [
              "     AL   AK   AZ   AR   CA   CO   CT   FL   GA   ID  ...  restaurant.2  \\\n",
              "id                                                    ...                 \n",
              "0   1.0  0.0  0.0  0.0  0.0  0.0  0.0  0.0  0.0  0.0  ...     23.812411   \n",
              "1   1.0  0.0  0.0  0.0  0.0  0.0  0.0  0.0  0.0  0.0  ...     23.682974   \n",
              "2   1.0  0.0  0.0  0.0  0.0  0.0  0.0  0.0  0.0  0.0  ...     23.593983   \n",
              "3   1.0  0.0  0.0  0.0  0.0  0.0  0.0  0.0  0.0  0.0  ...     22.576992   \n",
              "4   1.0  0.0  0.0  0.0  0.0  0.0  0.0  0.0  0.0  0.0  ...     22.091433   \n",
              "\n",
              "    spent_time.2  large_event.2  public_transit.2  anxious.2  depressed.2  \\\n",
              "id                                                                          \n",
              "0      43.430423      16.151527          1.602635  15.409449    12.088688   \n",
              "1      43.196313      16.123386          1.641863  15.230063    11.809047   \n",
              "2      43.362200      16.159971          1.677523  15.717207    12.355918   \n",
              "3      42.954574      15.544373          1.578030  15.295650    12.218123   \n",
              "4      43.290957      15.214655          1.641667  14.778802    12.417256   \n",
              "\n",
              "    felt_isolated.2  worried_become_ill.2  worried_finances.2  \\\n",
              "id                                                              \n",
              "0         16.702086             53.991549           43.604229   \n",
              "1         16.506973             54.185521           42.665766   \n",
              "2         16.273294             53.637069           42.972417   \n",
              "3         16.045504             52.446223           42.907472   \n",
              "4         16.134238             52.560315           43.321985   \n",
              "\n",
              "    tested_positive.2  \n",
              "id                     \n",
              "0           20.704935  \n",
              "1           21.292911  \n",
              "2           21.166656  \n",
              "3           19.896607  \n",
              "4           20.178428  \n",
              "\n",
              "[5 rows x 94 columns]"
            ],
            "text/html": [
              "\n",
              "\n",
              "  <div id=\"df-2ae8da83-4eea-4779-80c7-355678196e2b\">\n",
              "    <div class=\"colab-df-container\">\n",
              "      <div>\n",
              "<style scoped>\n",
              "    .dataframe tbody tr th:only-of-type {\n",
              "        vertical-align: middle;\n",
              "    }\n",
              "\n",
              "    .dataframe tbody tr th {\n",
              "        vertical-align: top;\n",
              "    }\n",
              "\n",
              "    .dataframe thead th {\n",
              "        text-align: right;\n",
              "    }\n",
              "</style>\n",
              "<table border=\"1\" class=\"dataframe\">\n",
              "  <thead>\n",
              "    <tr style=\"text-align: right;\">\n",
              "      <th></th>\n",
              "      <th>AL</th>\n",
              "      <th>AK</th>\n",
              "      <th>AZ</th>\n",
              "      <th>AR</th>\n",
              "      <th>CA</th>\n",
              "      <th>CO</th>\n",
              "      <th>CT</th>\n",
              "      <th>FL</th>\n",
              "      <th>GA</th>\n",
              "      <th>ID</th>\n",
              "      <th>...</th>\n",
              "      <th>restaurant.2</th>\n",
              "      <th>spent_time.2</th>\n",
              "      <th>large_event.2</th>\n",
              "      <th>public_transit.2</th>\n",
              "      <th>anxious.2</th>\n",
              "      <th>depressed.2</th>\n",
              "      <th>felt_isolated.2</th>\n",
              "      <th>worried_become_ill.2</th>\n",
              "      <th>worried_finances.2</th>\n",
              "      <th>tested_positive.2</th>\n",
              "    </tr>\n",
              "    <tr>\n",
              "      <th>id</th>\n",
              "      <th></th>\n",
              "      <th></th>\n",
              "      <th></th>\n",
              "      <th></th>\n",
              "      <th></th>\n",
              "      <th></th>\n",
              "      <th></th>\n",
              "      <th></th>\n",
              "      <th></th>\n",
              "      <th></th>\n",
              "      <th></th>\n",
              "      <th></th>\n",
              "      <th></th>\n",
              "      <th></th>\n",
              "      <th></th>\n",
              "      <th></th>\n",
              "      <th></th>\n",
              "      <th></th>\n",
              "      <th></th>\n",
              "      <th></th>\n",
              "      <th></th>\n",
              "    </tr>\n",
              "  </thead>\n",
              "  <tbody>\n",
              "    <tr>\n",
              "      <th>0</th>\n",
              "      <td>1.0</td>\n",
              "      <td>0.0</td>\n",
              "      <td>0.0</td>\n",
              "      <td>0.0</td>\n",
              "      <td>0.0</td>\n",
              "      <td>0.0</td>\n",
              "      <td>0.0</td>\n",
              "      <td>0.0</td>\n",
              "      <td>0.0</td>\n",
              "      <td>0.0</td>\n",
              "      <td>...</td>\n",
              "      <td>23.812411</td>\n",
              "      <td>43.430423</td>\n",
              "      <td>16.151527</td>\n",
              "      <td>1.602635</td>\n",
              "      <td>15.409449</td>\n",
              "      <td>12.088688</td>\n",
              "      <td>16.702086</td>\n",
              "      <td>53.991549</td>\n",
              "      <td>43.604229</td>\n",
              "      <td>20.704935</td>\n",
              "    </tr>\n",
              "    <tr>\n",
              "      <th>1</th>\n",
              "      <td>1.0</td>\n",
              "      <td>0.0</td>\n",
              "      <td>0.0</td>\n",
              "      <td>0.0</td>\n",
              "      <td>0.0</td>\n",
              "      <td>0.0</td>\n",
              "      <td>0.0</td>\n",
              "      <td>0.0</td>\n",
              "      <td>0.0</td>\n",
              "      <td>0.0</td>\n",
              "      <td>...</td>\n",
              "      <td>23.682974</td>\n",
              "      <td>43.196313</td>\n",
              "      <td>16.123386</td>\n",
              "      <td>1.641863</td>\n",
              "      <td>15.230063</td>\n",
              "      <td>11.809047</td>\n",
              "      <td>16.506973</td>\n",
              "      <td>54.185521</td>\n",
              "      <td>42.665766</td>\n",
              "      <td>21.292911</td>\n",
              "    </tr>\n",
              "    <tr>\n",
              "      <th>2</th>\n",
              "      <td>1.0</td>\n",
              "      <td>0.0</td>\n",
              "      <td>0.0</td>\n",
              "      <td>0.0</td>\n",
              "      <td>0.0</td>\n",
              "      <td>0.0</td>\n",
              "      <td>0.0</td>\n",
              "      <td>0.0</td>\n",
              "      <td>0.0</td>\n",
              "      <td>0.0</td>\n",
              "      <td>...</td>\n",
              "      <td>23.593983</td>\n",
              "      <td>43.362200</td>\n",
              "      <td>16.159971</td>\n",
              "      <td>1.677523</td>\n",
              "      <td>15.717207</td>\n",
              "      <td>12.355918</td>\n",
              "      <td>16.273294</td>\n",
              "      <td>53.637069</td>\n",
              "      <td>42.972417</td>\n",
              "      <td>21.166656</td>\n",
              "    </tr>\n",
              "    <tr>\n",
              "      <th>3</th>\n",
              "      <td>1.0</td>\n",
              "      <td>0.0</td>\n",
              "      <td>0.0</td>\n",
              "      <td>0.0</td>\n",
              "      <td>0.0</td>\n",
              "      <td>0.0</td>\n",
              "      <td>0.0</td>\n",
              "      <td>0.0</td>\n",
              "      <td>0.0</td>\n",
              "      <td>0.0</td>\n",
              "      <td>...</td>\n",
              "      <td>22.576992</td>\n",
              "      <td>42.954574</td>\n",
              "      <td>15.544373</td>\n",
              "      <td>1.578030</td>\n",
              "      <td>15.295650</td>\n",
              "      <td>12.218123</td>\n",
              "      <td>16.045504</td>\n",
              "      <td>52.446223</td>\n",
              "      <td>42.907472</td>\n",
              "      <td>19.896607</td>\n",
              "    </tr>\n",
              "    <tr>\n",
              "      <th>4</th>\n",
              "      <td>1.0</td>\n",
              "      <td>0.0</td>\n",
              "      <td>0.0</td>\n",
              "      <td>0.0</td>\n",
              "      <td>0.0</td>\n",
              "      <td>0.0</td>\n",
              "      <td>0.0</td>\n",
              "      <td>0.0</td>\n",
              "      <td>0.0</td>\n",
              "      <td>0.0</td>\n",
              "      <td>...</td>\n",
              "      <td>22.091433</td>\n",
              "      <td>43.290957</td>\n",
              "      <td>15.214655</td>\n",
              "      <td>1.641667</td>\n",
              "      <td>14.778802</td>\n",
              "      <td>12.417256</td>\n",
              "      <td>16.134238</td>\n",
              "      <td>52.560315</td>\n",
              "      <td>43.321985</td>\n",
              "      <td>20.178428</td>\n",
              "    </tr>\n",
              "  </tbody>\n",
              "</table>\n",
              "<p>5 rows × 94 columns</p>\n",
              "</div>\n",
              "      <button class=\"colab-df-convert\" onclick=\"convertToInteractive('df-2ae8da83-4eea-4779-80c7-355678196e2b')\"\n",
              "              title=\"Convert this dataframe to an interactive table.\"\n",
              "              style=\"display:none;\">\n",
              "\n",
              "  <svg xmlns=\"http://www.w3.org/2000/svg\" height=\"24px\"viewBox=\"0 0 24 24\"\n",
              "       width=\"24px\">\n",
              "    <path d=\"M0 0h24v24H0V0z\" fill=\"none\"/>\n",
              "    <path d=\"M18.56 5.44l.94 2.06.94-2.06 2.06-.94-2.06-.94-.94-2.06-.94 2.06-2.06.94zm-11 1L8.5 8.5l.94-2.06 2.06-.94-2.06-.94L8.5 2.5l-.94 2.06-2.06.94zm10 10l.94 2.06.94-2.06 2.06-.94-2.06-.94-.94-2.06-.94 2.06-2.06.94z\"/><path d=\"M17.41 7.96l-1.37-1.37c-.4-.4-.92-.59-1.43-.59-.52 0-1.04.2-1.43.59L10.3 9.45l-7.72 7.72c-.78.78-.78 2.05 0 2.83L4 21.41c.39.39.9.59 1.41.59.51 0 1.02-.2 1.41-.59l7.78-7.78 2.81-2.81c.8-.78.8-2.07 0-2.86zM5.41 20L4 18.59l7.72-7.72 1.47 1.35L5.41 20z\"/>\n",
              "  </svg>\n",
              "      </button>\n",
              "\n",
              "\n",
              "\n",
              "    <div id=\"df-e5c6108e-88b9-43d4-8857-18869b69e527\">\n",
              "      <button class=\"colab-df-quickchart\" onclick=\"quickchart('df-e5c6108e-88b9-43d4-8857-18869b69e527')\"\n",
              "              title=\"Suggest charts.\"\n",
              "              style=\"display:none;\">\n",
              "\n",
              "<svg xmlns=\"http://www.w3.org/2000/svg\" height=\"24px\"viewBox=\"0 0 24 24\"\n",
              "     width=\"24px\">\n",
              "    <g>\n",
              "        <path d=\"M19 3H5c-1.1 0-2 .9-2 2v14c0 1.1.9 2 2 2h14c1.1 0 2-.9 2-2V5c0-1.1-.9-2-2-2zM9 17H7v-7h2v7zm4 0h-2V7h2v10zm4 0h-2v-4h2v4z\"/>\n",
              "    </g>\n",
              "</svg>\n",
              "      </button>\n",
              "    </div>\n",
              "\n",
              "<style>\n",
              "  .colab-df-quickchart {\n",
              "    background-color: #E8F0FE;\n",
              "    border: none;\n",
              "    border-radius: 50%;\n",
              "    cursor: pointer;\n",
              "    display: none;\n",
              "    fill: #1967D2;\n",
              "    height: 32px;\n",
              "    padding: 0 0 0 0;\n",
              "    width: 32px;\n",
              "  }\n",
              "\n",
              "  .colab-df-quickchart:hover {\n",
              "    background-color: #E2EBFA;\n",
              "    box-shadow: 0px 1px 2px rgba(60, 64, 67, 0.3), 0px 1px 3px 1px rgba(60, 64, 67, 0.15);\n",
              "    fill: #174EA6;\n",
              "  }\n",
              "\n",
              "  [theme=dark] .colab-df-quickchart {\n",
              "    background-color: #3B4455;\n",
              "    fill: #D2E3FC;\n",
              "  }\n",
              "\n",
              "  [theme=dark] .colab-df-quickchart:hover {\n",
              "    background-color: #434B5C;\n",
              "    box-shadow: 0px 1px 3px 1px rgba(0, 0, 0, 0.15);\n",
              "    filter: drop-shadow(0px 1px 2px rgba(0, 0, 0, 0.3));\n",
              "    fill: #FFFFFF;\n",
              "  }\n",
              "</style>\n",
              "\n",
              "    <script>\n",
              "      async function quickchart(key) {\n",
              "        const containerElement = document.querySelector('#' + key);\n",
              "        const charts = await google.colab.kernel.invokeFunction(\n",
              "            'suggestCharts', [key], {});\n",
              "      }\n",
              "    </script>\n",
              "\n",
              "      <script>\n",
              "\n",
              "function displayQuickchartButton(domScope) {\n",
              "  let quickchartButtonEl =\n",
              "    domScope.querySelector('#df-e5c6108e-88b9-43d4-8857-18869b69e527 button.colab-df-quickchart');\n",
              "  quickchartButtonEl.style.display =\n",
              "    google.colab.kernel.accessAllowed ? 'block' : 'none';\n",
              "}\n",
              "\n",
              "        displayQuickchartButton(document);\n",
              "      </script>\n",
              "      <style>\n",
              "    .colab-df-container {\n",
              "      display:flex;\n",
              "      flex-wrap:wrap;\n",
              "      gap: 12px;\n",
              "    }\n",
              "\n",
              "    .colab-df-convert {\n",
              "      background-color: #E8F0FE;\n",
              "      border: none;\n",
              "      border-radius: 50%;\n",
              "      cursor: pointer;\n",
              "      display: none;\n",
              "      fill: #1967D2;\n",
              "      height: 32px;\n",
              "      padding: 0 0 0 0;\n",
              "      width: 32px;\n",
              "    }\n",
              "\n",
              "    .colab-df-convert:hover {\n",
              "      background-color: #E2EBFA;\n",
              "      box-shadow: 0px 1px 2px rgba(60, 64, 67, 0.3), 0px 1px 3px 1px rgba(60, 64, 67, 0.15);\n",
              "      fill: #174EA6;\n",
              "    }\n",
              "\n",
              "    [theme=dark] .colab-df-convert {\n",
              "      background-color: #3B4455;\n",
              "      fill: #D2E3FC;\n",
              "    }\n",
              "\n",
              "    [theme=dark] .colab-df-convert:hover {\n",
              "      background-color: #434B5C;\n",
              "      box-shadow: 0px 1px 3px 1px rgba(0, 0, 0, 0.15);\n",
              "      filter: drop-shadow(0px 1px 2px rgba(0, 0, 0, 0.3));\n",
              "      fill: #FFFFFF;\n",
              "    }\n",
              "  </style>\n",
              "\n",
              "      <script>\n",
              "        const buttonEl =\n",
              "          document.querySelector('#df-2ae8da83-4eea-4779-80c7-355678196e2b button.colab-df-convert');\n",
              "        buttonEl.style.display =\n",
              "          google.colab.kernel.accessAllowed ? 'block' : 'none';\n",
              "\n",
              "        async function convertToInteractive(key) {\n",
              "          const element = document.querySelector('#df-2ae8da83-4eea-4779-80c7-355678196e2b');\n",
              "          const dataTable =\n",
              "            await google.colab.kernel.invokeFunction('convertToInteractive',\n",
              "                                                     [key], {});\n",
              "          if (!dataTable) return;\n",
              "\n",
              "          const docLinkHtml = 'Like what you see? Visit the ' +\n",
              "            '<a target=\"_blank\" href=https://colab.research.google.com/notebooks/data_table.ipynb>data table notebook</a>'\n",
              "            + ' to learn more about interactive tables.';\n",
              "          element.innerHTML = '';\n",
              "          dataTable['output_type'] = 'display_data';\n",
              "          await google.colab.output.renderOutput(dataTable, element);\n",
              "          const docLink = document.createElement('div');\n",
              "          docLink.innerHTML = docLinkHtml;\n",
              "          element.appendChild(docLink);\n",
              "        }\n",
              "      </script>\n",
              "    </div>\n",
              "  </div>\n"
            ]
          },
          "metadata": {},
          "execution_count": 4
        }
      ]
    },
    {
      "cell_type": "code",
      "source": [
        "len(train_df)"
      ],
      "metadata": {
        "colab": {
          "base_uri": "https://localhost:8080/"
        },
        "id": "eQggxATMfW97",
        "outputId": "9770fbe2-c7f3-4b58-df19-64369134d4dd"
      },
      "execution_count": 7,
      "outputs": [
        {
          "output_type": "execute_result",
          "data": {
            "text/plain": [
              "2700"
            ]
          },
          "metadata": {},
          "execution_count": 7
        }
      ]
    },
    {
      "cell_type": "markdown",
      "source": [
        "# Make Dataset & DataLoader"
      ],
      "metadata": {
        "id": "mQ1y8msOfbQ3"
      }
    },
    {
      "cell_type": "code",
      "source": [
        "class COVID19Dataset(Dataset):\n",
        "    def __init__(self, path, mode):\n",
        "        self.mode = mode\n",
        "        data = pd.read_csv(path, index_col='id').values\n",
        "\n",
        "        if mode != \"test\": # 回傳訓練+驗證資料\n",
        "            label = data[:, -1]\n",
        "            data = data[:, range(93)]\n",
        "            indices = None\n",
        "            if mode == \"train\":\n",
        "                indices = [i for i in range(len(data)) if i % 10 != 0]\n",
        "            elif mode == \"val\":\n",
        "                indices = [i for i in range(len(data)) if i % 10 == 0]\n",
        "\n",
        "            self.data = torch.FloatTensor(data[indices])\n",
        "            self.label = torch.FloatTensor(label[indices])\n",
        "        else:\n",
        "            self.data = torch.FloatTensor(data[:, range(93)])\n",
        "\n",
        "        self.data[:, 40:] = (self.data[:, 40:] - self.data[:, 40:].mean(dim=0)) / self.data[:, 40:].std(dim=0)\n",
        "        self.dim = self.data.shape[1]\n",
        "\n",
        "        print(\"完成初步資料讀取與標準化，模式為{}，資料長度為{}\".format(mode, str(len(self.data))))\n",
        "\n",
        "    def __getitem__(self, index):\n",
        "        # Returns one sample at a time\n",
        "        if self.mode in ['train', 'val']:\n",
        "            # For training\n",
        "            return self.data[index], self.label[index]\n",
        "        else:\n",
        "            # For testing (no target)\n",
        "            return self.data[index]\n",
        "\n",
        "    def __len__(self):\n",
        "        # Returns the size of the dataset\n",
        "        return len(self.data)"
      ],
      "metadata": {
        "id": "L_xUHdERfXAe"
      },
      "execution_count": 46,
      "outputs": []
    },
    {
      "cell_type": "code",
      "source": [
        "# DataLoader\n",
        "def prep_dataloader(path, mode, batch_size, n_jobs=0, target_only=False):\n",
        "    ''' Generates a dataset, then is put into a dataloader. '''\n",
        "    dataset = COVID19Dataset(path, mode=mode)  # Construct dataset\n",
        "    dataloader = DataLoader(\n",
        "        dataset, batch_size,\n",
        "        shuffle=(mode == 'train'), drop_last=False,\n",
        "        num_workers=n_jobs, pin_memory=True)                            # Construct dataloader\n",
        "    return dataloader"
      ],
      "metadata": {
        "id": "Q_3A0pBwfXC1"
      },
      "execution_count": 47,
      "outputs": []
    },
    {
      "cell_type": "markdown",
      "source": [
        "#Construct Model"
      ],
      "metadata": {
        "id": "3jxmZfamfmLe"
      }
    },
    {
      "cell_type": "code",
      "source": [
        "dummy = torch.tensor(range(30), dtype=torch.float)\n",
        "\n",
        "net = nn.Sequential(\n",
        "  nn.Linear(30, 128),\n",
        "  nn.ReLU(),\n",
        "  nn.Linear(128, 64),\n",
        "  nn.ReLU(),\n",
        "  nn.Linear(64, 1)\n",
        ")\n",
        "\n",
        "out = net(dummy)\n",
        "out.shape"
      ],
      "metadata": {
        "id": "Or3QltO3mYFp"
      },
      "execution_count": null,
      "outputs": []
    },
    {
      "cell_type": "code",
      "source": [
        "class MyModel(nn.Module):\n",
        "    def __init__(self, input_dim):\n",
        "        super(MyModel, self).__init__()\n",
        "\n",
        "        self.net = nn.Sequential(\n",
        "            nn.Linear(input_dim, 128),\n",
        "            nn.ReLU(),\n",
        "            nn.Linear(128, 64),\n",
        "            nn.ReLU(),\n",
        "            nn.Linear(64, 1)\n",
        "        )\n",
        "\n",
        "        self.criterion = nn.MSELoss(reduction = \"mean\")\n",
        "\n",
        "    def forward(self, x):\n",
        "        return self.net(x).squeeze(1)\n",
        "\n",
        "    def cal_loss(self, pred, label):\n",
        "        return self.criterion(pred, label)"
      ],
      "metadata": {
        "id": "pHvT6IMiffgb"
      },
      "execution_count": 48,
      "outputs": []
    },
    {
      "cell_type": "markdown",
      "source": [
        "# Set hyperparameter"
      ],
      "metadata": {
        "id": "wjAuvjxijfSI"
      }
    },
    {
      "cell_type": "code",
      "source": [
        "config = {\n",
        "    'n_epochs': 3000,                # maximum number of epochs\n",
        "    'batch_size': 270,               # mini-batch size for dataloader\n",
        "    'optimizer': 'SGD',              # optimization algorithm (optimizer in torch.optim)\n",
        "    'optim_hparas': {                # hyper-parameters for the optimizer (depends on which optimizer you are using)\n",
        "        'lr': 0.001,                 # learning rate of SGD\n",
        "        'momentum': 0.9              # momentum for SGD\n",
        "    },\n",
        "    'early_stop': 200,               # early stopping epochs (the number epochs since your model's last improvement)\n",
        "    'save_path': '/content/models/model.pth'  # your model will be saved here\n",
        "}"
      ],
      "metadata": {
        "id": "wHTvTAbAjhl5"
      },
      "execution_count": 56,
      "outputs": []
    },
    {
      "cell_type": "markdown",
      "source": [
        "#Load data & model"
      ],
      "metadata": {
        "id": "AyFQyozFfrSc"
      }
    },
    {
      "cell_type": "code",
      "source": [
        "train_loader = prep_dataloader(\"/content/drive/MyDrive/Colab Notebooks/ML_2021/hw1/covid.train.csv\", \"train\", config['batch_size'])\n",
        "val_loader = prep_dataloader(\"/content/drive/MyDrive/Colab Notebooks/ML_2021/hw1/covid.train.csv\", 'val', config['batch_size'])\n",
        "test_loader = prep_dataloader(\"/content/drive/MyDrive/Colab Notebooks/ML_2021/hw1/covid.test.csv\", 'test', config['batch_size'])\n",
        "\n",
        "device = torch.device(\"cuda\")\n",
        "model = MyModel(train_loader.dataset.dim).to(device)"
      ],
      "metadata": {
        "colab": {
          "base_uri": "https://localhost:8080/"
        },
        "id": "yZOxInGIffig",
        "outputId": "f6a1a872-5221-4cd3-aca1-059e149aee4a"
      },
      "execution_count": 57,
      "outputs": [
        {
          "output_type": "stream",
          "name": "stdout",
          "text": [
            "完成初步資料讀取與標準化，模式為train，資料長度為2430\n",
            "完成初步資料讀取與標準化，模式為val，資料長度為270\n",
            "完成初步資料讀取與標準化，模式為test，資料長度為893\n"
          ]
        }
      ]
    },
    {
      "cell_type": "markdown",
      "source": [
        "#Start training"
      ],
      "metadata": {
        "id": "2MzchbJnhD8F"
      }
    },
    {
      "cell_type": "code",
      "source": [
        "def test(model, test_loader):\n",
        "    model.eval()\n",
        "    preds = []\n",
        "    for data in test_loader:\n",
        "        data = data.to(device)\n",
        "        with torch.no_grad():\n",
        "            pred = model(data)\n",
        "            preds.append(pred.detach().cpu())   # collect prediction\n",
        "    preds = torch.cat(preds, dim=0).numpy()     # concatenate all predictions and convert to a numpy array\n",
        "    return preds\n",
        "\n",
        "def validate(model, val_loader, device):\n",
        "    model.eval()\n",
        "    total_loss = 0.0\n",
        "    for data, label in val_loader:\n",
        "        data, label = data.to(device), label.to(device)\n",
        "        with torch.no_grad():\n",
        "            pred = model(data)\n",
        "            mse_loss = model.cal_loss(pred, label)\n",
        "        total_loss += mse_loss.detach().cpu().item()\n",
        "    return total_loss/len(val_loader)\n",
        "\n",
        "\n",
        "def train(model, config, train_loader, val_loader, device):\n",
        "    optimizer = getattr(torch.optim, config['optimizer'])(model.parameters(), **config['optim_hparas'])\n",
        "    epochs = config['n_epochs']\n",
        "    early_stop_epo = config['early_stop']\n",
        "    save_path = config['save_path']\n",
        "\n",
        "    loss_record = {'train': [], 'dev': []}\n",
        "    min_mse = 1000.\n",
        "    early_stop_cnt = 0\n",
        "    for epoch in range(epochs):\n",
        "        model.train()\n",
        "        train_loss = 0.0\n",
        "        for data, label in train_loader:\n",
        "            optimizer.zero_grad()\n",
        "            data, label = data.to(device), label.to(device)\n",
        "\n",
        "            pred = model(data)\n",
        "            mse_loss = model.cal_loss(pred, label)\n",
        "            mse_loss.backward() # compute gradient (backpropagation)\n",
        "            optimizer.step() # update model with optimizer\n",
        "            train_loss += mse_loss.detach().cpu().item()\n",
        "        loss_record['train'].append(train_loss/len(train_loader))\n",
        "\n",
        "        # 一個 epoch 結束就算一次驗證\n",
        "        val_loss = validate(model, val_loader, device)\n",
        "        loss_record['dev'].append(val_loss)\n",
        "\n",
        "        # 若 val_loss < min_mse 就儲存模型\n",
        "        if val_loss < min_mse:\n",
        "            min_mse = val_loss\n",
        "            print('save model(epoch = {:4d}, loss = {:.4f})'.format(epoch + 1, min_mse))\n",
        "            torch.save(model.state_dict(), save_path)  # Save model to specified path\n",
        "            early_stop_cnt = 0\n",
        "        else:\n",
        "            early_stop_cnt += 1\n",
        "\n",
        "        if early_stop_cnt >= early_stop_epo:\n",
        "            print(\"超過{}個epoch沒有儲存模型，早停!\".format(str(early_stop_epo)))\n",
        "            break\n",
        "\n",
        "    print('Finished training after {} epochs'.format(epoch))\n",
        "    return min_mse, loss_record"
      ],
      "metadata": {
        "id": "IcCS3KLWffkv"
      },
      "execution_count": 69,
      "outputs": []
    },
    {
      "cell_type": "code",
      "source": [
        "min_mse, loss_record = train(model, config, train_loader, val_loader, device)"
      ],
      "metadata": {
        "colab": {
          "base_uri": "https://localhost:8080/"
        },
        "id": "dfM-6VMQjlgH",
        "outputId": "a963cd3a-1c01-43a8-cd15-6daecdd12612"
      },
      "execution_count": 59,
      "outputs": [
        {
          "output_type": "stream",
          "name": "stdout",
          "text": [
            "save model(epoch =    1, loss = 83.0248)\n",
            "save model(epoch =    2, loss = 60.0680)\n",
            "save model(epoch =    3, loss = 33.9760)\n",
            "save model(epoch =    4, loss = 13.0661)\n",
            "save model(epoch =    5, loss = 5.8000)\n",
            "save model(epoch =    6, loss = 4.1219)\n",
            "save model(epoch =    7, loss = 3.6653)\n",
            "save model(epoch =    8, loss = 3.1593)\n",
            "save model(epoch =    9, loss = 2.7172)\n",
            "save model(epoch =   10, loss = 2.1256)\n",
            "save model(epoch =   11, loss = 1.9245)\n",
            "save model(epoch =   12, loss = 1.8389)\n",
            "save model(epoch =   13, loss = 1.7089)\n",
            "save model(epoch =   14, loss = 1.5803)\n",
            "save model(epoch =   15, loss = 1.5271)\n",
            "save model(epoch =   16, loss = 1.4740)\n",
            "save model(epoch =   17, loss = 1.4404)\n",
            "save model(epoch =   18, loss = 1.3574)\n",
            "save model(epoch =   19, loss = 1.3241)\n",
            "save model(epoch =   20, loss = 1.2557)\n",
            "save model(epoch =   21, loss = 1.2384)\n",
            "save model(epoch =   22, loss = 1.2011)\n",
            "save model(epoch =   23, loss = 1.1913)\n",
            "save model(epoch =   24, loss = 1.1490)\n",
            "save model(epoch =   26, loss = 1.1482)\n",
            "save model(epoch =   27, loss = 1.1481)\n",
            "save model(epoch =   29, loss = 1.0821)\n",
            "save model(epoch =   35, loss = 1.0783)\n",
            "save model(epoch =   36, loss = 1.0285)\n",
            "save model(epoch =   37, loss = 1.0276)\n",
            "save model(epoch =   42, loss = 1.0043)\n",
            "save model(epoch =   43, loss = 0.9801)\n",
            "save model(epoch =   45, loss = 0.9629)\n",
            "save model(epoch =   48, loss = 0.9585)\n",
            "save model(epoch =   51, loss = 0.9468)\n",
            "save model(epoch =   52, loss = 0.9440)\n",
            "save model(epoch =   55, loss = 0.9234)\n",
            "save model(epoch =   59, loss = 0.9093)\n",
            "save model(epoch =   62, loss = 0.9088)\n",
            "save model(epoch =   65, loss = 0.8858)\n",
            "save model(epoch =   73, loss = 0.8776)\n",
            "save model(epoch =   75, loss = 0.8652)\n",
            "save model(epoch =   84, loss = 0.8474)\n",
            "save model(epoch =   93, loss = 0.8323)\n",
            "save model(epoch =   97, loss = 0.8200)\n",
            "save model(epoch =  100, loss = 0.8142)\n",
            "save model(epoch =  108, loss = 0.8131)\n",
            "save model(epoch =  117, loss = 0.8040)\n",
            "save model(epoch =  129, loss = 0.7959)\n",
            "save model(epoch =  137, loss = 0.7919)\n",
            "save model(epoch =  146, loss = 0.7833)\n",
            "save model(epoch =  155, loss = 0.7801)\n",
            "save model(epoch =  172, loss = 0.7752)\n",
            "save model(epoch =  209, loss = 0.7720)\n",
            "save model(epoch =  308, loss = 0.7673)\n",
            "超過200個epoch沒有儲存模型，早停!\n",
            "Finished training after 507 epochs\n"
          ]
        }
      ]
    },
    {
      "cell_type": "code",
      "source": [
        "import matplotlib.pyplot as plt\n",
        "\n",
        "# 取得 'train' 和 'dev' 的 x 軸資料，這裡假設 x 軸是 [1, 2, 3]\n",
        "x_data = list(range(1, len(loss_record['train']) + 1))\n",
        "\n",
        "# 'train' 和 'dev' 的 y 軸資料\n",
        "train_losses = loss_record['train']\n",
        "dev_losses = loss_record['dev']\n",
        "\n",
        "# 繪製 'train' 和 'dev' 的趨勢直線圖\n",
        "plt.plot(x_data, train_losses, label='Train Loss')\n",
        "plt.plot(x_data, dev_losses, label='Dev Loss')\n",
        "\n",
        "# 設定圖表標題和軸標籤\n",
        "plt.title('Train and Dev Loss Trend')\n",
        "plt.xlabel('Epochs')\n",
        "plt.ylabel('Loss')\n",
        "\n",
        "# 加入圖例\n",
        "plt.legend()\n",
        "\n",
        "# 顯示圖表\n",
        "plt.show()"
      ],
      "metadata": {
        "colab": {
          "base_uri": "https://localhost:8080/",
          "height": 472
        },
        "id": "I_kebMHsffmv",
        "outputId": "6c7cf730-38d7-4167-eee4-6acec4052701"
      },
      "execution_count": 63,
      "outputs": [
        {
          "output_type": "display_data",
          "data": {
            "text/plain": [
              "<Figure size 640x480 with 1 Axes>"
            ],
            "image/png": "[encoded data removed]"
          },
          "metadata": {}
        }
      ]
    },
    {
      "cell_type": "markdown",
      "source": [
        "# Load the best model"
      ],
      "metadata": {
        "id": "AD1tWzEip9uT"
      }
    },
    {
      "cell_type": "code",
      "source": [
        "def plot_pred(dv_set, model, device, lim=35., preds=None, targets=None):\n",
        "    ''' Plot prediction of your DNN '''\n",
        "    if preds is None or targets is None:\n",
        "        model.eval()\n",
        "        preds, targets = [], []\n",
        "        for x, y in dv_set:\n",
        "            x, y = x.to(device), y.to(device)\n",
        "            with torch.no_grad():\n",
        "                pred = model(x)\n",
        "                preds.append(pred.detach().cpu())\n",
        "                targets.append(y.detach().cpu())\n",
        "        preds = torch.cat(preds, dim=0).numpy()\n",
        "        targets = torch.cat(targets, dim=0).numpy()\n",
        "\n",
        "    figure(figsize=(5, 5))\n",
        "    plt.scatter(targets, preds, c='r', alpha=0.5)\n",
        "    plt.plot([-0.2, lim], [-0.2, lim], c='b')\n",
        "    plt.xlim(-0.2, lim)\n",
        "    plt.ylim(-0.2, lim)\n",
        "    plt.xlabel('ground truth value')\n",
        "    plt.ylabel('predicted value')\n",
        "    plt.title('Ground Truth v.s. Prediction')\n",
        "    plt.show()\n",
        "\n",
        "del model\n",
        "model = MyModel(train_loader.dataset.dim).to(device)\n",
        "ckpt = torch.load(config['save_path'], map_location='cpu')  # Load your best model\n",
        "model.load_state_dict(ckpt)\n",
        "plot_pred(val_loader, model, device)  # Show prediction on the validation set"
      ],
      "metadata": {
        "colab": {
          "base_uri": "https://localhost:8080/",
          "height": 487
        },
        "id": "UJDZASuCqAq3",
        "outputId": "06ae8656-a810-430a-8691-0f7513d67ce2"
      },
      "execution_count": 72,
      "outputs": [
        {
          "output_type": "display_data",
          "data": {
            "text/plain": [
              "<Figure size 500x500 with 1 Axes>"
            ],
            "image/png": "[encoded data removed]"
          },
          "metadata": {}
        }
      ]
    },
    {
      "cell_type": "markdown",
      "source": [
        "# Testing"
      ],
      "metadata": {
        "id": "q3p4Jn0gnzdt"
      }
    },
    {
      "cell_type": "code",
      "source": [
        "test_preds = test(model, test_loader)"
      ],
      "metadata": {
        "id": "6L7jh5dFn2Vv"
      },
      "execution_count": 70,
      "outputs": []
    },
    {
      "cell_type": "code",
      "source": [
        "def save_pred(preds, file):\n",
        "    ''' Save predictions to specified file '''\n",
        "    print('Saving results to {}'.format(file))\n",
        "    with open(file, 'w') as fp:\n",
        "        writer = csv.writer(fp)\n",
        "        writer.writerow(['id', 'tested_positive'])\n",
        "        for i, p in enumerate(preds):\n",
        "            writer.writerow([i, p])\n",
        "save_pred(test_preds, 'pred.csv')         # save prediction file to pred.csv"
      ],
      "metadata": {
        "colab": {
          "base_uri": "https://localhost:8080/"
        },
        "id": "N5ecp7_eqc0v",
        "outputId": "0d4b88fe-334b-408e-b57f-4f89c026bfc1"
      },
      "execution_count": 73,
      "outputs": [
        {
          "output_type": "stream",
          "name": "stdout",
          "text": [
            "Saving results to pred.csv\n"
          ]
        }
      ]
    }
  ]
}